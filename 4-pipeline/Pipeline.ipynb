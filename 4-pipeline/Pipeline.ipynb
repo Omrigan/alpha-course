{
 "cells": [
  {
   "cell_type": "code",
   "execution_count": null,
   "metadata": {
    "collapsed": true
   },
   "outputs": [],
   "source": [
    "import pandas as pd\n",
    "import numpy as np\n",
    "import xgboost as xgb\n",
    "import theano.tensor as T"
   ]
  },
  {
   "cell_type": "markdown",
   "metadata": {},
   "source": [
    "# House prices\n",
    "Сегодня тебе предстоит решить задачу из идущего (!) соревнования на kaggle\n",
    "\n",
    "Ссылка на соревнование: https://www.kaggle.com/c/house-prices-advanced-regression-techniques\n",
    "\n",
    "Задача посвящена предсказанию цен на недвижимость.\n",
    "## Датасет\n",
    "Увидеть данные можно ниже\n",
    "Среди входной информации много разных фичей: категориальные и непрерывные. Тебе предстоит придумать, как использовать оба подмножества фичей, но начать можно и с любого количества фичей (можно даже и совсем без них!)\n",
    "Задача стоит в том, чтобы предсказать одно число - цену на дом.\n",
    "\n",
    "\n",
    "Для решения в этой тетрадке предлагается использовать sklearn-подобный класс и тебе предстоит его реализовать!\n",
    "## Предлагаемый алгоритм решения\n",
    "1. Использовать какой-нибудь алгоритм из sklearn в чистом виде на непрерывных фичах\n",
    "2. Смешать несколько моделей\n",
    "3. Реализовать encoder и использовать непрерывные фичи\n",
    "\n",
    "Возможные улучшения\n",
    " - Написать свою линейную регрессию по собственной функции потерь\n",
    " - Добавить в ансамбль классификаторы, которые решают подазадачу - например, предсказывают порядок величины или её старший разряд\n",
    " - Попробовать пооптимизировать гиперпараметры через gridsearch"
   ]
  },
  {
   "cell_type": "code",
   "execution_count": null,
   "metadata": {
    "collapsed": false
   },
   "outputs": [],
   "source": [
    "train = pd.DataFrame.from_csv('data/train.csv')\n",
    "test = pd.DataFrame.from_csv('data/test.csv')"
   ]
  },
  {
   "cell_type": "code",
   "execution_count": null,
   "metadata": {
    "collapsed": false
   },
   "outputs": [],
   "source": [
    "train.head()"
   ]
  },
  {
   "cell_type": "code",
   "execution_count": null,
   "metadata": {
    "collapsed": false
   },
   "outputs": [],
   "source": [
    "train_y = #Выдели ответы из данных"
   ]
  },
  {
   "cell_type": "code",
   "execution_count": null,
   "metadata": {
    "collapsed": false
   },
   "outputs": [],
   "source": [
    "train.columns[train.dtypes!='object'] # Числовые фичи"
   ]
  },
  {
   "cell_type": "code",
   "execution_count": null,
   "metadata": {
    "collapsed": false
   },
   "outputs": [],
   "source": [
    "from sklearn.cross_validation import train_test_split, cross_val_predict, cross_val_score\n",
    "train_x = train.copy()\n",
    "del #удали ответы из данных - иначе есть риск получить score=0 на train! \n",
    "\n",
    "all_data = pd.concat((train_x, test))\n",
    "#Научи encoder'ы преобразовывать категориальные фичи в числа \n",
    "def prepare_data(raw):\n",
    "    #Подготовь данные - приведи их к числовому тензору\n",
    "    #Не забывай про NaN!\n",
    "    return out \n",
    "\n",
    "X = prepare_data(train_x)\n",
    "Y = train_y\n",
    "X_train, X_val, Y_train, Y_val = train_test_split(X, Y, test_size=0.1)\n",
    "X_test = prepare_data(test)"
   ]
  },
  {
   "cell_type": "code",
   "execution_count": null,
   "metadata": {
    "collapsed": false
   },
   "outputs": [],
   "source": [
    "from sklearn.linear_model import LinearRegression\n",
    "import scipy\n",
    "\n",
    "class MySuperModel():\n",
    "    def __init__(self, full_params = True):\n",
    "        #Инициализируй все необходимые модели\n",
    "        pass\n",
    "        \n",
    "    \n",
    "    def fit(self, X, Y):\n",
    "        #Научись\n",
    "        pass\n",
    "    def predict(self, X):\n",
    "        #Предскажи\n",
    "        return np.asarray(Y_pred)\n",
    "    def get_params(self, deep=None):\n",
    "        #Верни все параметры своей модели\n",
    "        return {}\n",
    "    def metrics(self, Y_pred, Y_true):\n",
    "        #Функция считает метрику из kaggle\n",
    "        return ((np.log(np.max(Y_true, 0)+1)-np.log(np.max(Y_pred, 0)+1))**2).mean()**0.5\n",
    "        \n",
    "    def score(self, X, Y):\n",
    "        # Функция оцениват качество модели (не путать с metrics!)\n",
    "        return self.metrics(self.predict(X), Y)"
   ]
  },
  {
   "cell_type": "code",
   "execution_count": null,
   "metadata": {
    "collapsed": false
   },
   "outputs": [],
   "source": [
    "model = MySuperModel(full_params = True)"
   ]
  },
  {
   "cell_type": "code",
   "execution_count": null,
   "metadata": {
    "collapsed": false
   },
   "outputs": [],
   "source": [
    "model.fit(X_train, Y_train)"
   ]
  },
  {
   "cell_type": "code",
   "execution_count": null,
   "metadata": {
    "collapsed": false
   },
   "outputs": [],
   "source": [
    "cross_val_score(model, X, Y) # Score через cross_val"
   ]
  },
  {
   "cell_type": "code",
   "execution_count": null,
   "metadata": {
    "collapsed": false
   },
   "outputs": [],
   "source": [
    "def eval_me(st):\n",
    "    'Функция оценивает качество модели на train и val'\n",
    "    print(st)\n",
    "    print(\"Train: \" , model.metrics(model.predict(X_train), Y_train))\n",
    "    print(\"Val: \" , model.metrics(model.predict(X_val), Y_val))\n",
    "def create_submission(filename, output):\n",
    "    'Функция формирует выходной файл, который можно отправлять на kaggle'\n",
    "    outp = pd.DataFrame(index=test.index)\n",
    "    outp['SalePrice'] = output\n",
    "    outp.to_csv('submissions/%s.csv' % filename)"
   ]
  },
  {
   "cell_type": "code",
   "execution_count": null,
   "metadata": {
    "collapsed": false
   },
   "outputs": [],
   "source": [
    "eval_me(\"MySuperModel\")"
   ]
  },
  {
   "cell_type": "code",
   "execution_count": null,
   "metadata": {
    "collapsed": false
   },
   "outputs": [],
   "source": [
    "model.fit(X,Y)"
   ]
  },
  {
   "cell_type": "code",
   "execution_count": null,
   "metadata": {
    "collapsed": false
   },
   "outputs": [],
   "source": [
    "create_submission('submission-name', model.predict(X_test))    "
   ]
  },
  {
   "cell_type": "code",
   "execution_count": null,
   "metadata": {
    "collapsed": false
   },
   "outputs": [],
   "source": [
    "model.predict(X_val)[:5],  Y_val[:5]"
   ]
  }
 ],
 "metadata": {
  "kernelspec": {
   "display_name": "Python 3",
   "language": "python",
   "name": "python3"
  },
  "language_info": {
   "codemirror_mode": {
    "name": "ipython",
    "version": 3
   },
   "file_extension": ".py",
   "mimetype": "text/x-python",
   "name": "python",
   "nbconvert_exporter": "python",
   "pygments_lexer": "ipython3",
   "version": "3.5.2"
  }
 },
 "nbformat": 4,
 "nbformat_minor": 0
}
