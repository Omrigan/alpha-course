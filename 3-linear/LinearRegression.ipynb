{
 "cells": [
  {
   "cell_type": "code",
   "execution_count": null,
   "metadata": {
    "collapsed": true
   },
   "outputs": [],
   "source": [
    "import numpy as np\n",
    "from sklearn.datasets import load_digits, load_diabetes, load_boston"
   ]
  },
  {
   "cell_type": "markdown",
   "metadata": {},
   "source": [
    "# Линейная регрессия\n",
    "В этой тетрадке мы с вами научимся строить линейную регрессию по данным при помощи стохастического градиентного спуска (sgd). \n",
    "\n",
    "Для этого мы используем датасет c предсказанием дозы инсулина для диабетиков/"
   ]
  },
  {
   "cell_type": "code",
   "execution_count": null,
   "metadata": {
    "collapsed": false
   },
   "outputs": [],
   "source": [
    "#Загрузим данные\n",
    "X = load_diabetes()['data'] \n",
    "Y = load_diabetes()['target']"
   ]
  },
  {
   "cell_type": "code",
   "execution_count": null,
   "metadata": {
    "collapsed": false
   },
   "outputs": [],
   "source": [
    "n_vars = <FILL ME> #Количество фичей в данных"
   ]
  },
  {
   "cell_type": "code",
   "execution_count": null,
   "metadata": {
    "collapsed": false
   },
   "outputs": [],
   "source": [
    "#Задаим веса случайными\n",
    "w = np.random.rand(n_vars)\n",
    "b = np.random.random()"
   ]
  },
  {
   "cell_type": "code",
   "execution_count": null,
   "metadata": {
    "collapsed": false
   },
   "outputs": [],
   "source": [
    "#Скорость обучения\n",
    "alpha = 0.01"
   ]
  },
  {
   "cell_type": "code",
   "execution_count": null,
   "metadata": {
    "collapsed": true
   },
   "outputs": [],
   "source": [
    "def predict(x):\n",
    "    'Функция по иксу и весам делает предсказание'\n",
    "    return (x.dot(w.T) + b)\n",
    "def sqerr(x, y):\n",
    "    'Функция считает среднеквадартичную ошибку'\n",
    "    return <FILL ME>"
   ]
  },
  {
   "cell_type": "code",
   "execution_count": null,
   "metadata": {
    "collapsed": false
   },
   "outputs": [],
   "source": [
    "n_batches = 10000 #Количество итераций обучения\n",
    "n_samples = 100 #Количество примеров для того, чтобы сделать шаг по градиенту\n",
    "for i in range(n_batches):\n",
    "    grads = []\n",
    "    b_grads = []\n",
    "    for j in range(n_samples):\n",
    "        ind = np.random.randint(X.shape[0]) #Выбираем пример\n",
    "        x = X[ind]\n",
    "        y = Y[ind]\n",
    "        y_p = <Подсчитай предсказания>\n",
    "        grad = <градиенты по  #Считаем градиенты\n",
    "        b_grad = 2*(y_p-y) \n",
    "        grads.append(grad) \n",
    "        b_grads.append(b_grad)\n",
    "    w = w - alpha*np.asarray(grads).mean(axis=0) #Усредняем градиенты за несколько примеров и двигаем веса\n",
    "    b = b - alpha*np.asarray(b_grads).mean(axis=0)\n",
    "print('Grads: %s, Mean sq error: %s' % (np.mean(grads), sqerr(X, Y)))    "
   ]
  },
  {
   "cell_type": "code",
   "execution_count": null,
   "metadata": {
    "collapsed": true
   },
   "outputs": [],
   "source": []
  }
 ],
 "metadata": {
  "kernelspec": {
   "display_name": "Python 3",
   "language": "python",
   "name": "python3"
  },
  "language_info": {
   "codemirror_mode": {
    "name": "ipython",
    "version": 3
   },
   "file_extension": ".py",
   "mimetype": "text/x-python",
   "name": "python",
   "nbconvert_exporter": "python",
   "pygments_lexer": "ipython3",
   "version": "3.5.2"
  }
 },
 "nbformat": 4,
 "nbformat_minor": 0
}
