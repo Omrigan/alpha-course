{
 "cells": [
  {
   "cell_type": "code",
   "execution_count": null,
   "metadata": {
    "collapsed": false
   },
   "outputs": [],
   "source": [
    "import numpy as np\n",
    "import matplotlib.pyplot as plt\n",
    "%matplotlib inline\n",
    "import pandas"
   ]
  },
  {
   "cell_type": "markdown",
   "metadata": {},
   "source": [
    "# Сегодня в выборке\n",
    "400 фотографий лиц. Всяких."
   ]
  },
  {
   "cell_type": "code",
   "execution_count": null,
   "metadata": {
    "collapsed": false
   },
   "outputs": [],
   "source": [
    "from sklearn.datasets import fetch_olivetti_faces\n",
    "data = fetch_olivetti_faces().images"
   ]
  },
  {
   "cell_type": "code",
   "execution_count": null,
   "metadata": {
    "collapsed": false
   },
   "outputs": [],
   "source": [
    "#Ещё одна прикольная фича matplotlib - subplot - можно делать составной график из нескольких простых\n",
    "#Синтаксис - plt.subplot(число_ячеек_в_высоту, число_ячеек_в_ширину, порядковый_номер_ячейки)\n",
    "plt.subplot(2,2,1)\n",
    "plt.imshow(data[0],cmap='gray')\n",
    "plt.subplot(2,2,2)\n",
    "plt.imshow(data[1],cmap='gray')\n",
    "plt.subplot(2,2,3)\n",
    "plt.imshow(data[2],cmap='gray')\n",
    "plt.subplot(2,2,4)\n",
    "plt.imshow(data[3],cmap='gray')"
   ]
  },
  {
   "cell_type": "markdown",
   "metadata": {},
   "source": [
    "# X,y\n",
    "\n",
    "Для начала попытаемся по левой половине лица предсказывать правую. В первую очередь для этого нужно нарезать данные на \"известные\" (левая половина) и \"целевые\" (правая половина). Исторически сложилось так, что известные данные обычно зовут X, а целевые - y, но здесь нет никакого глубокого смысла.\n",
    "\n",
    "* Подсказка - вырезать часть данных можно при помощи slice-ов.\n",
    "* В обычном питоне если у нас есть массив a, то a[2:5] - элементы a под индексами 2,3,4\n",
    "* Сейчас у вас есть трёхмерный numpy-массив, и slice-ы можно делать по отдельным размерностям.\n",
    "\n",
    "Размерности data отвечают за (номер картинки, высота, ширина).\n",
    "* `data[:10]` - первые 10 картинок целиком\n",
    "* `data[:, :10]` - горизонтальная полоска высотой 10 пикселей наверху изображения - для всех картинок\n",
    "* `data[10:20, :, :10]` - взять картинки __10~19__ и отрезать от них слева ВЕРТИКАЛЬНУЮ полосу __во всю высоту изображения__ шириной в __10 пикселей__\n",
    "\n",
    "Попробуйте разные разрезы и посмотрите, что получится.\n"
   ]
  },
  {
   "cell_type": "code",
   "execution_count": null,
   "metadata": {
    "collapsed": false
   },
   "outputs": [],
   "source": [
    "#отрезаем правую половину лица в Y, левую можно использовать как X\n",
    "X = <Вырежи левую половину из каждой картинки> \n",
    "y = <Вырежи правую половину из каждой картинки>"
   ]
  },
  {
   "cell_type": "code",
   "execution_count": null,
   "metadata": {
    "collapsed": false
   },
   "outputs": [],
   "source": [
    "#Если вы всё сделали правильно, тут должно отрисоваться лицо, разрезанное на 2 графика, \n",
    "#причём левая половина должна быть слева, а правая - справа\n",
    "plt.subplot(1,2,1)\n",
    "plt.imshow(X[0],cmap='gray')\n",
    "plt.subplot(1,2,2)\n",
    "plt.imshow(y[0],cmap='gray')"
   ]
  },
  {
   "cell_type": "code",
   "execution_count": null,
   "metadata": {
    "collapsed": false
   },
   "outputs": [],
   "source": [
    "def glue(left_half,right_half):\n",
    "    #склеить фото лица из 2 половинок\n",
    "    left_half = left_half.reshape([-1,64,32])\n",
    "    right_half = right_half.reshape([-1,64,32])\n",
    "    return np.concatenate([left_half,right_half],axis=-1)\n",
    "\n",
    "plt.imshow(glue(X,y)[99],cmap='gray')"
   ]
  },
  {
   "cell_type": "markdown",
   "metadata": {},
   "source": [
    "# Model"
   ]
  },
  {
   "cell_type": "code",
   "execution_count": null,
   "metadata": {
    "collapsed": false
   },
   "outputs": [],
   "source": [
    "from sklearn.cross_validation import train_test_split\n",
    "X_train,X_test,Y_train,Y_test = train_test_split(X.reshape([len(X),-1]),\n",
    "                                                 y.reshape([len(y),-1]),\n",
    "                                                 test_size=0.05,random_state=42)"
   ]
  },
  {
   "cell_type": "code",
   "execution_count": null,
   "metadata": {
    "collapsed": false
   },
   "outputs": [],
   "source": [
    "X_test.shape"
   ]
  },
  {
   "cell_type": "code",
   "execution_count": null,
   "metadata": {
    "collapsed": false
   },
   "outputs": [],
   "source": [
    "from sklearn.linear_model import LinearRegression\n",
    "from sklearn.ensemble import RandomForestRegressor\n",
    "model = LinearRegression()\n",
    "model.fit(X_train,Y_train)"
   ]
  },
  {
   "cell_type": "code",
   "execution_count": null,
   "metadata": {
    "collapsed": false
   },
   "outputs": [],
   "source": [
    "from sklearn.metrics import mean_squared_error, accuracy_score\n",
    "\n",
    "print(mean_squared_error(Y_train,model.predict(X_train)))\n",
    "print(mean_squared_error(Y_test,model.predict(X_test)))"
   ]
  },
  {
   "cell_type": "code",
   "execution_count": null,
   "metadata": {
    "collapsed": false
   },
   "outputs": [],
   "source": [
    "#Картинки на train\n",
    "pics = glue(X_train,model.predict(X_train))\n",
    "plt.figure(figsize=[16,12])\n",
    "for i in range(20):\n",
    "    plt.subplot(4,5,i+1)\n",
    "    plt.imshow(pics[i],cmap='gray')"
   ]
  },
  {
   "cell_type": "code",
   "execution_count": null,
   "metadata": {
    "collapsed": false
   },
   "outputs": [],
   "source": [
    "#Картинки на test\n",
    "pics = glue(X_test,model.predict(X_test))\n",
    "plt.figure(figsize=[16,12])\n",
    "for i in range(20):\n",
    "    plt.subplot(4,5,i+1)\n",
    "    plt.imshow(pics[i],cmap='gray')"
   ]
  },
  {
   "cell_type": "markdown",
   "metadata": {},
   "source": [
    "# Ridge regression\n",
    "Ridge - это как LinearRegression, но с L2 регуляризацией (штраф за сумму квадратов весов\n",
    "\n",
    "* Квест - попробуйте научить Ridge с параметрами по умолчанию и посмотреть, чем будет отличаться результат.\n",
    "* Попробуйте подёргать параметр alpha (вес регуляризации) и посмотрите, как меняется результат."
   ]
  },
  {
   "cell_type": "code",
   "execution_count": null,
   "metadata": {
    "collapsed": true
   },
   "outputs": [],
   "source": [
    "from sklearn.linear_model import Ridge\n",
    "\n",
    "#пример создания с alpha = 0.5:  Ridge(alpha=0.5)"
   ]
  },
  {
   "cell_type": "code",
   "execution_count": null,
   "metadata": {
    "collapsed": false
   },
   "outputs": [],
   "source": [
    "Создай и обучи"
   ]
  },
  {
   "cell_type": "code",
   "execution_count": null,
   "metadata": {
    "collapsed": true
   },
   "outputs": [],
   "source": [
    "Посчитай ошибку"
   ]
  },
  {
   "cell_type": "code",
   "execution_count": null,
   "metadata": {
    "collapsed": true
   },
   "outputs": [],
   "source": [
    "Нарисуй предсказанные картинки"
   ]
  },
  {
   "cell_type": "markdown",
   "metadata": {},
   "source": [
    "# Grid search\n",
    "\n",
    "Найдите параметр alpha такой, что среднеквадратичная ошибка на тесте наименьшая. Постройте зависимость ошибки от alpha."
   ]
  },
  {
   "cell_type": "code",
   "execution_count": null,
   "metadata": {
    "collapsed": true
   },
   "outputs": [],
   "source": []
  },
  {
   "cell_type": "code",
   "execution_count": null,
   "metadata": {
    "collapsed": true
   },
   "outputs": [],
   "source": []
  },
  {
   "cell_type": "code",
   "execution_count": null,
   "metadata": {
    "collapsed": true
   },
   "outputs": [],
   "source": []
  },
  {
   "cell_type": "markdown",
   "metadata": {},
   "source": [
    "# Titanic\n",
    "Давайте попробуем воспользоваться методами машинного обучения, чтобы предсказать выживших на титанике"
   ]
  },
  {
   "cell_type": "code",
   "execution_count": null,
   "metadata": {
    "collapsed": false
   },
   "outputs": [],
   "source": [
    "from sklearn.preprocessing import LabelEncoder\n",
    "sex_encode =   LabelEncoder()\n",
    "em_encode =   LabelEncoder()\n",
    "def preproc_titanic(data):\n",
    "    'Функция, которая по исходным данным строит X (удаляет строки, кодирует пол и т. д.)'\n",
    "    X_titanic = data.copy()\n",
    "    X_titanic.Embarked[X_titanic.Embarked.isnull()] = 'N'\n",
    "    le = LabelEncoder()\n",
    "    X_titanic.Embarked = em_encode.transform(X_titanic.Embarked)\n",
    "    X_titanic.Sex = sex_encode.transform(X_titanic.Sex)\n",
    "    X_titanic.Age[X_titanic.Age.isnull()] = 0 \n",
    "    X_titanic.Fare[X_titanic.Fare.isnull()] = 0\n",
    "    del X_titanic['Name']\n",
    "    del X_titanic['Ticket']\n",
    "    del X_titanic['Cabin']\n",
    "    return X_titanic"
   ]
  },
  {
   "cell_type": "code",
   "execution_count": null,
   "metadata": {
    "collapsed": false
   },
   "outputs": [],
   "source": [
    "data = pandas.DataFrame.from_csv(\"../1-titanic/train.csv\")\n",
    "test_data = pandas.DataFrame.from_csv(\"../1-titanic/test.csv\")"
   ]
  },
  {
   "cell_type": "code",
   "execution_count": null,
   "metadata": {
    "collapsed": false
   },
   "outputs": [],
   "source": [
    "#LabelEncoder преобразует классы в числа. Научим его преобразовывать пол и порт в конкретные числа\n",
    "data.Embarked[data.Embarked.isnull()] = 'N'\n",
    "em_encode.fit(data.Embarked)\n",
    "sex_encode.fit(data.Sex)"
   ]
  },
  {
   "cell_type": "code",
   "execution_count": null,
   "metadata": {
    "collapsed": false
   },
   "outputs": [],
   "source": [
    "#Приготовим данные для обучения\n",
    "X_titanic = preproc_titanic(data)\n",
    "Y_titanic = data.Survived\n",
    "del X_titanic['Survived']    "
   ]
  },
  {
   "cell_type": "code",
   "execution_count": null,
   "metadata": {
    "collapsed": false
   },
   "outputs": [],
   "source": [
    "#Приготовим данные для теста\n",
    "X_test = preproc_titanic(test_data)"
   ]
  },
  {
   "cell_type": "code",
   "execution_count": null,
   "metadata": {
    "collapsed": false
   },
   "outputs": [],
   "source": [
    "X_train,X_val,Y_train,Y_val = train_test_split(X_titanic,\n",
    "                                                 Y_titanic,\n",
    "                                                 test_size=0.05,random_state=42)"
   ]
  },
  {
   "cell_type": "code",
   "execution_count": null,
   "metadata": {
    "collapsed": false
   },
   "outputs": [],
   "source": [
    "model = <выбери алгоритм>\n",
    "<научи модель>"
   ]
  },
  {
   "cell_type": "code",
   "execution_count": null,
   "metadata": {
    "collapsed": false
   },
   "outputs": [],
   "source": [
    "#Посчитаем accuracy на ваоидации и на кросс-валидации\n",
    "print(accuracy_score(Y_val, model.predict(X_val)))\n",
    "print(cross_val_score(model, X_titanic, Y_titanic).mean())"
   ]
  },
  {
   "cell_type": "code",
   "execution_count": null,
   "metadata": {
    "collapsed": true
   },
   "outputs": [],
   "source": [
    "Y_test = pandas.DataFrame(index=X_test.index)\n",
    "Y_test['Survived'] = <предскажи>"
   ]
  },
  {
   "cell_type": "code",
   "execution_count": null,
   "metadata": {
    "collapsed": false
   },
   "outputs": [],
   "source": [
    "#Сохраним попытку\n",
    "Y_test.to_csv('mysubmission.csv')"
   ]
  },
  {
   "cell_type": "code",
   "execution_count": null,
   "metadata": {
    "collapsed": false
   },
   "outputs": [],
   "source": [
    "#Визуализируем дерево решений\n",
    "from sklearn.externals.six import StringIO  \n",
    "import pydot\n",
    "from IPython.display import Image  \n",
    "dot_data = StringIO()  \n",
    "export_graphviz(model, out_file=dot_data,  \n",
    "                         feature_names=X_titanic.columns.values,  \n",
    "                         class_names=['0', '1'],  \n",
    "                         filled=True, rounded=True,  \n",
    "                         special_characters=True)  \n",
    "graph = pydot.graph_from_dot_data(dot_data.getvalue())[0]\n",
    "graph.write_png('titanic.png')\n",
    "Image(graph.create_png())"
   ]
  }
 ],
 "metadata": {
  "kernelspec": {
   "display_name": "Python 3",
   "language": "python",
   "name": "python3"
  },
  "language_info": {
   "codemirror_mode": {
    "name": "ipython",
    "version": 3
   },
   "file_extension": ".py",
   "mimetype": "text/x-python",
   "name": "python",
   "nbconvert_exporter": "python",
   "pygments_lexer": "ipython3",
   "version": "3.5.2"
  }
 },
 "nbformat": 4,
 "nbformat_minor": 0
}
