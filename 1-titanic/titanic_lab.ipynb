{
 "cells": [
  {
   "cell_type": "markdown",
   "metadata": {},
   "source": [
    "# Как выжить на титанике\n",
    "\n",
    "---\n",
    "\n",
    "Эта тетрадка научит тебя использовать pandas, numpy, строить графики в matplotlib и выживать при кораблекрушении.\n",
    "\n",
    "Начнём!\n",
    "\n",
    "\n",
    "* Клетки можно просто выполнять (выделить и ctrl+enter или shift+enter - чтобы сразу выделить следующую)\n",
    "* По надобности их можно создавать (\"плюсик\" в панели наверху)\n",
    "* В некоторых клетках нужно дописать код, что именно - пишется в комментариях рядом"
   ]
  },
  {
   "cell_type": "markdown",
   "metadata": {},
   "source": [
    "## загрузим данные c Pandas"
   ]
  },
  {
   "cell_type": "code",
   "execution_count": 1,
   "metadata": {
    "collapsed": false
   },
   "outputs": [],
   "source": [
    "#подключим модуль Pandas. Он нужен, чтобы работать с данными\n",
    "import pandas\n",
    "import numpy as np\n",
    "\n",
    "#считаем данные\n",
    "data = pandas.DataFrame.from_csv(\"train.csv\")"
   ]
  },
  {
   "cell_type": "code",
   "execution_count": null,
   "metadata": {
    "collapsed": false
   },
   "outputs": [],
   "source": [
    "print \"Hello\""
   ]
  },
  {
   "cell_type": "code",
   "execution_count": 2,
   "metadata": {
    "collapsed": false
   },
   "outputs": [
    {
     "data": {
      "text/html": [
       "<div>\n",
       "<table border=\"1\" class=\"dataframe\">\n",
       "  <thead>\n",
       "    <tr style=\"text-align: right;\">\n",
       "      <th></th>\n",
       "      <th>Survived</th>\n",
       "      <th>Pclass</th>\n",
       "      <th>Name</th>\n",
       "      <th>Sex</th>\n",
       "      <th>Age</th>\n",
       "      <th>SibSp</th>\n",
       "      <th>Parch</th>\n",
       "      <th>Ticket</th>\n",
       "      <th>Fare</th>\n",
       "      <th>Cabin</th>\n",
       "      <th>Embarked</th>\n",
       "    </tr>\n",
       "    <tr>\n",
       "      <th>PassengerId</th>\n",
       "      <th></th>\n",
       "      <th></th>\n",
       "      <th></th>\n",
       "      <th></th>\n",
       "      <th></th>\n",
       "      <th></th>\n",
       "      <th></th>\n",
       "      <th></th>\n",
       "      <th></th>\n",
       "      <th></th>\n",
       "      <th></th>\n",
       "    </tr>\n",
       "  </thead>\n",
       "  <tbody>\n",
       "    <tr>\n",
       "      <th>1</th>\n",
       "      <td>0</td>\n",
       "      <td>3</td>\n",
       "      <td>Braund, Mr. Owen Harris</td>\n",
       "      <td>male</td>\n",
       "      <td>22.0</td>\n",
       "      <td>1</td>\n",
       "      <td>0</td>\n",
       "      <td>A/5 21171</td>\n",
       "      <td>7.2500</td>\n",
       "      <td>NaN</td>\n",
       "      <td>S</td>\n",
       "    </tr>\n",
       "    <tr>\n",
       "      <th>2</th>\n",
       "      <td>1</td>\n",
       "      <td>1</td>\n",
       "      <td>Cumings, Mrs. John Bradley (Florence Briggs Th...</td>\n",
       "      <td>female</td>\n",
       "      <td>38.0</td>\n",
       "      <td>1</td>\n",
       "      <td>0</td>\n",
       "      <td>PC 17599</td>\n",
       "      <td>71.2833</td>\n",
       "      <td>C85</td>\n",
       "      <td>C</td>\n",
       "    </tr>\n",
       "    <tr>\n",
       "      <th>3</th>\n",
       "      <td>1</td>\n",
       "      <td>3</td>\n",
       "      <td>Heikkinen, Miss. Laina</td>\n",
       "      <td>female</td>\n",
       "      <td>26.0</td>\n",
       "      <td>0</td>\n",
       "      <td>0</td>\n",
       "      <td>STON/O2. 3101282</td>\n",
       "      <td>7.9250</td>\n",
       "      <td>NaN</td>\n",
       "      <td>S</td>\n",
       "    </tr>\n",
       "    <tr>\n",
       "      <th>4</th>\n",
       "      <td>1</td>\n",
       "      <td>1</td>\n",
       "      <td>Futrelle, Mrs. Jacques Heath (Lily May Peel)</td>\n",
       "      <td>female</td>\n",
       "      <td>35.0</td>\n",
       "      <td>1</td>\n",
       "      <td>0</td>\n",
       "      <td>113803</td>\n",
       "      <td>53.1000</td>\n",
       "      <td>C123</td>\n",
       "      <td>S</td>\n",
       "    </tr>\n",
       "    <tr>\n",
       "      <th>5</th>\n",
       "      <td>0</td>\n",
       "      <td>3</td>\n",
       "      <td>Allen, Mr. William Henry</td>\n",
       "      <td>male</td>\n",
       "      <td>35.0</td>\n",
       "      <td>0</td>\n",
       "      <td>0</td>\n",
       "      <td>373450</td>\n",
       "      <td>8.0500</td>\n",
       "      <td>NaN</td>\n",
       "      <td>S</td>\n",
       "    </tr>\n",
       "    <tr>\n",
       "      <th>6</th>\n",
       "      <td>0</td>\n",
       "      <td>3</td>\n",
       "      <td>Moran, Mr. James</td>\n",
       "      <td>male</td>\n",
       "      <td>NaN</td>\n",
       "      <td>0</td>\n",
       "      <td>0</td>\n",
       "      <td>330877</td>\n",
       "      <td>8.4583</td>\n",
       "      <td>NaN</td>\n",
       "      <td>Q</td>\n",
       "    </tr>\n",
       "    <tr>\n",
       "      <th>7</th>\n",
       "      <td>0</td>\n",
       "      <td>1</td>\n",
       "      <td>McCarthy, Mr. Timothy J</td>\n",
       "      <td>male</td>\n",
       "      <td>54.0</td>\n",
       "      <td>0</td>\n",
       "      <td>0</td>\n",
       "      <td>17463</td>\n",
       "      <td>51.8625</td>\n",
       "      <td>E46</td>\n",
       "      <td>S</td>\n",
       "    </tr>\n",
       "    <tr>\n",
       "      <th>8</th>\n",
       "      <td>0</td>\n",
       "      <td>3</td>\n",
       "      <td>Palsson, Master. Gosta Leonard</td>\n",
       "      <td>male</td>\n",
       "      <td>2.0</td>\n",
       "      <td>3</td>\n",
       "      <td>1</td>\n",
       "      <td>349909</td>\n",
       "      <td>21.0750</td>\n",
       "      <td>NaN</td>\n",
       "      <td>S</td>\n",
       "    </tr>\n",
       "    <tr>\n",
       "      <th>9</th>\n",
       "      <td>1</td>\n",
       "      <td>3</td>\n",
       "      <td>Johnson, Mrs. Oscar W (Elisabeth Vilhelmina Berg)</td>\n",
       "      <td>female</td>\n",
       "      <td>27.0</td>\n",
       "      <td>0</td>\n",
       "      <td>2</td>\n",
       "      <td>347742</td>\n",
       "      <td>11.1333</td>\n",
       "      <td>NaN</td>\n",
       "      <td>S</td>\n",
       "    </tr>\n",
       "    <tr>\n",
       "      <th>10</th>\n",
       "      <td>1</td>\n",
       "      <td>2</td>\n",
       "      <td>Nasser, Mrs. Nicholas (Adele Achem)</td>\n",
       "      <td>female</td>\n",
       "      <td>14.0</td>\n",
       "      <td>1</td>\n",
       "      <td>0</td>\n",
       "      <td>237736</td>\n",
       "      <td>30.0708</td>\n",
       "      <td>NaN</td>\n",
       "      <td>C</td>\n",
       "    </tr>\n",
       "  </tbody>\n",
       "</table>\n",
       "</div>"
      ],
      "text/plain": [
       "             Survived  Pclass  \\\n",
       "PassengerId                     \n",
       "1                   0       3   \n",
       "2                   1       1   \n",
       "3                   1       3   \n",
       "4                   1       1   \n",
       "5                   0       3   \n",
       "6                   0       3   \n",
       "7                   0       1   \n",
       "8                   0       3   \n",
       "9                   1       3   \n",
       "10                  1       2   \n",
       "\n",
       "                                                          Name     Sex   Age  \\\n",
       "PassengerId                                                                    \n",
       "1                                      Braund, Mr. Owen Harris    male  22.0   \n",
       "2            Cumings, Mrs. John Bradley (Florence Briggs Th...  female  38.0   \n",
       "3                                       Heikkinen, Miss. Laina  female  26.0   \n",
       "4                 Futrelle, Mrs. Jacques Heath (Lily May Peel)  female  35.0   \n",
       "5                                     Allen, Mr. William Henry    male  35.0   \n",
       "6                                             Moran, Mr. James    male   NaN   \n",
       "7                                      McCarthy, Mr. Timothy J    male  54.0   \n",
       "8                               Palsson, Master. Gosta Leonard    male   2.0   \n",
       "9            Johnson, Mrs. Oscar W (Elisabeth Vilhelmina Berg)  female  27.0   \n",
       "10                         Nasser, Mrs. Nicholas (Adele Achem)  female  14.0   \n",
       "\n",
       "             SibSp  Parch            Ticket     Fare Cabin Embarked  \n",
       "PassengerId                                                          \n",
       "1                1      0         A/5 21171   7.2500   NaN        S  \n",
       "2                1      0          PC 17599  71.2833   C85        C  \n",
       "3                0      0  STON/O2. 3101282   7.9250   NaN        S  \n",
       "4                1      0            113803  53.1000  C123        S  \n",
       "5                0      0            373450   8.0500   NaN        S  \n",
       "6                0      0            330877   8.4583   NaN        Q  \n",
       "7                0      0             17463  51.8625   E46        S  \n",
       "8                3      1            349909  21.0750   NaN        S  \n",
       "9                0      2            347742  11.1333   NaN        S  \n",
       "10               1      0            237736  30.0708   NaN        C  "
      ]
     },
     "execution_count": 2,
     "metadata": {},
     "output_type": "execute_result"
    }
   ],
   "source": [
    "#Данные - таблица, двумерный массив\n",
    "data[:10]"
   ]
  },
  {
   "cell_type": "markdown",
   "metadata": {},
   "source": [
    "## Расшифровка колонок\n",
    "* Survived - выжил ли человек\n",
    "* Pclass - класс, которым человек путешествовал\n",
    "* Name - имя(строка)\n",
    "* Sex - пол, а не то, что ты подумал - строка male/female\n",
    "* Age - возраст\n",
    "* Sibsp - число родственников на корабле\n",
    "* Parch - число родителей на корабле\n",
    "* Ticket - билет (строка-шифр)\n",
    "* Fare - сколько стоил билет\n",
    "* Cabin - номер каюты, если есть\n",
    "* Embarked - порт, в котором человек зашёл на борт\n",
    " * C = Cherbourg; Q = Queenstown; S = Southampton\n",
    "\n",
    "В некоторых колонках встречается NaN - значит, что у данного человека данная колонка неизвестна (квест - найти их глазами в данных выше)"
   ]
  },
  {
   "cell_type": "code",
   "execution_count": null,
   "metadata": {
    "collapsed": false
   },
   "outputs": [],
   "source": [
    "#размеры таблицы\n",
    "print \"len(data) = \",len(data)\n",
    "print \"data.shape = \",data.shape"
   ]
  },
  {
   "cell_type": "code",
   "execution_count": null,
   "metadata": {
    "collapsed": false
   },
   "outputs": [],
   "source": [
    "#вот так можно получить четвёртую строку таблицы, считая с нуля\n",
    "print data.iloc[4]"
   ]
  },
  {
   "cell_type": "code",
   "execution_count": null,
   "metadata": {
    "collapsed": false
   },
   "outputs": [],
   "source": [
    "#первые 5 строк\n",
    "print data[0:5]"
   ]
  },
  {
   "cell_type": "code",
   "execution_count": null,
   "metadata": {
    "collapsed": false
   },
   "outputs": [],
   "source": [
    "#так можно получить второй столбец (считая с нуля)\n",
    "#print data.icol(2)\n",
    "#но проще - вот так:\n",
    "print data[\"Name\"]\n",
    "#или даже так: data.Name"
   ]
  },
  {
   "cell_type": "code",
   "execution_count": null,
   "metadata": {
    "collapsed": false
   },
   "outputs": [],
   "source": [
    "#несколько колонок, несколько строк\n",
    "data[[\"Sex\",\"Pclass\"]][5:10]"
   ]
  },
  {
   "cell_type": "code",
   "execution_count": null,
   "metadata": {
    "collapsed": false
   },
   "outputs": [],
   "source": [
    "# А еще можно делать фильтры\n",
    "data[data.Sex=='female'][data.Fare<20].head()"
   ]
  },
  {
   "cell_type": "markdown",
   "metadata": {},
   "source": [
    "## Теперь сам\n",
    "* выведи данные о 1, 13, 666 и последнем пассажире. Кто из них выжил?\n",
    "\n",
    "\n",
    "* выведи данные о столбике \"Survived\" - выжившие.\n",
    "* напиши программу, которая считает, сколько всего людей выжило и сколько всего людей было на корабле\n",
    "\n",
    "\n",
    "! Обрати внимание, что в данных может быть мусор (NaN, пустые значения) ! \n",
    "\n",
    "Их можно найти и удалить. Подумай (или погугли), как это сделать в питоне"
   ]
  },
  {
   "cell_type": "code",
   "execution_count": null,
   "metadata": {
    "collapsed": false
   },
   "outputs": [],
   "source": [
    "#<1,13, 666 и последний из пассажиров>"
   ]
  },
  {
   "cell_type": "code",
   "execution_count": null,
   "metadata": {
    "collapsed": false
   },
   "outputs": [],
   "source": [
    "#столбик"
   ]
  },
  {
   "cell_type": "code",
   "execution_count": null,
   "metadata": {
    "collapsed": false
   },
   "outputs": [],
   "source": [
    "survived = #Посчитай количество выживших\n",
    "assert np.allclose(survived, 342)"
   ]
  },
  {
   "cell_type": "markdown",
   "metadata": {},
   "source": [
    "# Numpy и векторные операции"
   ]
  },
  {
   "cell_type": "code",
   "execution_count": 3,
   "metadata": {
    "collapsed": false
   },
   "outputs": [
    {
     "name": "stdout",
     "output_type": "stream",
     "text": [
      "('a = ', array([1, 2, 3, 4, 5]))\n",
      "('b = ', array([5, 4, 3, 2, 1]))\n",
      "a+1 = [2 3 4 5 6]\n",
      "a*2 = [ 2  4  6  8 10]\n",
      "a==2 [False  True False False False]\n",
      "a+b = [6 6 6 6 6]\n",
      "a*b = [5 8 9 8 5]\n",
      "a.b = 35\n"
     ]
    }
   ],
   "source": [
    "#загружаем np. Это быстрая библиотека для математики\n",
    "\n",
    "\n",
    "#основная структура данных - массив\n",
    "a = np.array([1,2,3,4,5])\n",
    "b = np.array([5,4,3,2,1])\n",
    "print (\"a = \",a)\n",
    "print (\"b = \",b)\n",
    "\n",
    "#математические и логические операции считаются для каждого элемента массива\n",
    "print \"a+1 =\", a+1\n",
    "print \"a*2 =\", a*2\n",
    "print \"a==2\", a==2\n",
    "\n",
    "#если в операции участвуют 2 массива, операции считаются для соответствующих пар\n",
    "print \"a+b =\",a+b\n",
    "print \"a*b =\",a*b\n",
    "print \"a.b =\",a.dot(b)"
   ]
  },
  {
   "cell_type": "code",
   "execution_count": null,
   "metadata": {
    "collapsed": false
   },
   "outputs": [],
   "source": [
    "#а теперь сам\n",
    "print \"Разность между a и b:\", #<твой код>\n",
    "print \"Квадраты элементов b:\", #<твой код>\n",
    "print \"Половины элементов массива a:\", #<твой код>\n",
    "print \"Половины произведений элементов массивов a и b:\", #<твой код>\n",
    "print \"Частное разности элементов a и единицы с квадратами b:\", #<твой код>"
   ]
  },
  {
   "cell_type": "code",
   "execution_count": null,
   "metadata": {
    "collapsed": false
   },
   "outputs": [],
   "source": [
    "#а ещё в numpy есть много функций\n",
    "\n",
    "print \"np.sum(a) = \",np.sum(a)\n",
    "print \"np.min(a) = \", np.min(a)\n",
    "print \"np.argmin(b) = \", np.argmin(b) #индекс минимального элемента\n",
    "print \"np.max(a) = \", np.max(a)\n",
    "print \"np.argmax(b) = \", np.argmax(b) #индекс максимального\n",
    "print \"np.average(a) = \", np.average(a)\n",
    "print \"np.unique(['male','male','female','female','male']) = \",np.unique(['male','male','female','female','male'])\n",
    "#и ещё много  всего ...\n"
   ]
  },
  {
   "cell_type": "code",
   "execution_count": null,
   "metadata": {
    "collapsed": false
   },
   "outputs": [],
   "source": [
    "#Точно так же работают многомерные массивы\n",
    "c = np.zeros((3, 3))\n",
    "d = np.arange(3*3*2).reshape((3, 3, 2))\n",
    "e = np.random.random((3, 2))\n",
    "print c\n",
    "print d\n",
    "print d+e"
   ]
  },
  {
   "cell_type": "code",
   "execution_count": null,
   "metadata": {
    "collapsed": false
   },
   "outputs": [],
   "source": [
    "print d.flatten()\n",
    "print d.reshape((2, 9))\n",
    "print np.moveaxis(d, (0, 1, 2), (0, 2, 1))"
   ]
  },
  {
   "cell_type": "code",
   "execution_count": null,
   "metadata": {
    "collapsed": false
   },
   "outputs": [],
   "source": [
    "#[это важно для задания] \n",
    "#А вот так можно выделять данные, в которых определённая колонка - не NaN\n",
    "\n",
    "age_is_nan = np.isnan(data.Age) #массив bool - является ли у данного человека возраст NaN\n",
    "\n",
    "data_with_age = data[np.logical_not(age_is_nan)] # все люди, у которых возраст - не NaN (отдельная таблица)\n",
    "\n",
    "print len(data), \"всего людей\"\n",
    "print len(data_with_age), \"людей с известным возрастом\""
   ]
  },
  {
   "cell_type": "code",
   "execution_count": null,
   "metadata": {
    "collapsed": false
   },
   "outputs": [],
   "source": [
    "# мини-квест:\n",
    "# реши свою предыдущую задачу в 1-2 строчки с использованием numpy\n",
    "#подсказка: если массив состоит из 0 и 1, то \n",
    "#сумма = количестно единичек \n",
    "#среднее значение = вероятность единички\n",
    "print #<твой код>\n",
    "#найди пассажира с (минимальной/максимальной) стоимостью билета. Сколько он заплатил? Выжил ли он?\n",
    "\n",
    "print #<твой код>\n",
    "\n",
    "#Сколько лет было самому (молодому\\старому) пассажиру. Как его звали? Какого он пола?\n",
    "print #<твой код>"
   ]
  },
  {
   "cell_type": "code",
   "execution_count": null,
   "metadata": {
    "collapsed": true
   },
   "outputs": [],
   "source": [
    "mean_age = #Посчитай средний возраст людей на корабле (тут точно будет NaN)\n",
    "assert np.allclose(mean_age, 29.69911764705882)"
   ]
  },
  {
   "cell_type": "code",
   "execution_count": null,
   "metadata": {
    "collapsed": false
   },
   "outputs": [],
   "source": [
    "print \"логические операции\"\n",
    "\n",
    "print \"a>2\",a>2\n",
    "print \"np.logical_not(a>2) = \",np.logical_not(a>2)\n",
    "print \"np.logical_and(a>2,b>2) = \", np.logical_and(a>2,b>2)\n",
    "print \"np.logical_or(a>4,b<3) = \", np.logical_or(a>2,b<3)\n",
    "\n",
    "print \"\\nили проще\"\n",
    "print \"~(a>2) = \",~(a>2)  #как logical_not\n",
    "print \"(a>2)&(b>2) = \", (a>2)&(b>2) #как logical_and\n",
    "print \"(a>2)|(b<3) = \", (a>2)|(b<3)    #как logical_or\n",
    "\n",
    "\n",
    "print \"\\n\\nИндексация\"\n",
    "\n",
    "#индексация - выбираем эллементы из массима\n",
    "print \"a> 3 =\",a>3\n",
    "print \"a[a>3] =\", a[a>3]\n",
    "print \"np.where(a>3) =\",np.where(a>3) #где в массиве лежат True (кортеж, в котором лежит массив)\n",
    "print \"a[np.where(a>3)] =\",a[np.where(a>3)]"
   ]
  },
  {
   "cell_type": "markdown",
   "metadata": {},
   "source": [
    "### теперь сам"
   ]
  },
  {
   "cell_type": "markdown",
   "metadata": {},
   "source": [
    "Квесты\n",
    "* 1) сколько всего классов и какие они? (\"Pclass\")\n",
    "* 2) какая средняя стоимость билета в каждом классе?\n",
    "* 3) в каком классе больше детей (< 18 лет)? \n",
    "* 4) все ли дети путешествуют с родителями?\n",
    "* 5) Есть ли различия в названиях билетов(\"Ticket\") в разных классах?\n",
    "\n",
    "Бонусные сайд-квесты\n",
    "* 1) какие бывают порты? (\"Embarked\")\n",
    "* 2) Из какого порта больше пассажиров\n",
    "* 3) В каком порту самые дорогие билеты?\n",
    "* 4) В каком порту самые молодые девушки?\n",
    "* 5) Есть ли различия в названиях билетов(\"Ticket\") в разных портах?"
   ]
  },
  {
   "cell_type": "code",
   "execution_count": null,
   "metadata": {
    "collapsed": false
   },
   "outputs": [],
   "source": [
    "#твой код\n",
    "\n",
    "#здесь\n",
    "\n",
    "#тоже твой код"
   ]
  },
  {
   "cell_type": "code",
   "execution_count": null,
   "metadata": {
    "collapsed": false
   },
   "outputs": [],
   "source": [
    "mean_age = #Средний возраст девушек в порту Southampton (S)\n",
    "assert np.allclose(mean_age, 27.771505376344088)\n",
    "print \"Correct\""
   ]
  },
  {
   "cell_type": "code",
   "execution_count": null,
   "metadata": {
    "collapsed": false
   },
   "outputs": [],
   "source": [
    "#Выдели в отдельные наборы мужчин и женщин\n",
    "# за пол отвечает колонка \"Sex\", (\"male\",\"female\")\n",
    "\n",
    "men = #<твой код>\n",
    "women = #<твой код>\n",
    "\n",
    "#Кто с большей вероятностью выживет: мужчина или женщина?\n",
    "print \"P(выжил|мужчина) = \", #<твой код>\n",
    "print \"P(выжил|женщина) = \", #<твой код>"
   ]
  },
  {
   "cell_type": "markdown",
   "metadata": {},
   "source": [
    "## битва полов:\n",
    "* кто больше платил за билет?\n",
    "* у кого больше вероятность, что он плавает с семьёй (в данных колонка \"SibSp\" - к-во родственников)\n",
    "* кто в среднем моложе?\n",
    "* кто ЧАЩЕ плавает ПЕРВЫМ классом? (\"Pclass\")"
   ]
  },
  {
   "cell_type": "code",
   "execution_count": null,
   "metadata": {
    "collapsed": false
   },
   "outputs": [],
   "source": [
    "print \"Средняя цена для мужчин:\", #<твой код>\n",
    "print \"Средняя цена для женщин:\", #<твой код>\n",
    "\n",
    "print \"Вероятность, у мужчины на корабле семья\"\n",
    "print \"Вероятность, у женщины на корабле семья\"\n",
    "\n",
    "print \"Средний возраст мужчин:\", #<твой код>\n",
    "print \"Средний возраст женщин:\", #<твой код>\n",
    "\n",
    "\n",
    "p_men = #Вероятность плавать первым классом у мужчин \n",
    "p_women = #Вероятность плавать первым классом у женщин\n",
    "assert np.allclose(p_men, 0.21143847487)\n",
    "assert np.allclose(p_women, 0.299363057325)\n",
    "print \"Вероятность плавать первым классом у мужчин:\",p_men\n",
    "print \"Вероятность плавать первым классом у женщин:\", p_women"
   ]
  },
  {
   "cell_type": "markdown",
   "metadata": {},
   "source": [
    "## Бонус: насколько она быстрая, Гарри?\n",
    "Испытаем numpy на скорость\n",
    "* создадим 2 массива по 10^6 элементов\n",
    " * первый - числа от 0 до 1 000 000 не включая конец\n",
    " * второй - числа от 99 до 1 000 099 не включая конец\n",
    "* посчитаем:\n",
    " * поэллементную сумму\n",
    " * поэллементное произведение\n",
    " * корень квадратный эллементов первого массива\n",
    " * сумму всех элементов первого массива (одно число)\n",
    " \n",
    "* Сделаем это 3-мя способами\n",
    " * чистый python и списки\n",
    " * начинаем в python, преобразуем в numpy и \n",
    "\n"
   ]
  },
  {
   "cell_type": "code",
   "execution_count": null,
   "metadata": {
    "collapsed": false
   },
   "outputs": [],
   "source": [
    "%%time\n",
    "#эта штука считает время выполнения КЛЕТКИ (должна быть на первой строчке клетки)\n",
    "#время печатается в конце (точное время - total )\n",
    "\n",
    "\n",
    "#без numpy, чистый python\n",
    "arr_1 = range(1000000)\n",
    "arr_2 = range(99,1000099)\n",
    "\n",
    "\n",
    "a_sum = []\n",
    "a_prod = []\n",
    "sqrt_a1 = []\n",
    "for i in range(len(arr_1)):\n",
    "    a_sum.append(arr_1[i]+arr_2[i])\n",
    "    a_prod.append(arr_1[i]*arr_2[i])\n",
    "    a_sum.append(arr_1[i]**0.5)\n",
    "    \n",
    "#сумма всех элементов arr_1\n",
    "arr_1_sum = sum(arr_1)\n"
   ]
  },
  {
   "cell_type": "code",
   "execution_count": null,
   "metadata": {
    "collapsed": false
   },
   "outputs": [],
   "source": [
    "%%time\n",
    "\n",
    "#с numpy, преобразуя из list\n",
    "arr_1 = range(1000000)\n",
    "arr_2 = range(99,1000099)\n",
    "\n",
    "arr_1, arr_2 = np.array(arr_1) , np.array(arr_2)\n",
    "\n",
    "\n",
    "a_sum = arr_1 + arr_2\n",
    "a_prod = arr_1*arr_2\n",
    "sqrt_a1 = arr_1**.5\n"
   ]
  },
  {
   "cell_type": "code",
   "execution_count": null,
   "metadata": {
    "collapsed": false
   },
   "outputs": [],
   "source": [
    "%%time\n",
    "# чистый numpy\n",
    "arr_1 = np.arange(1000000)\n",
    "arr_2 = np.arange(99,1000099)\n",
    "\n",
    "a_sum = arr_1 + arr_2\n",
    "a_prod = arr_1*arr_2\n",
    "sqrt_a1 = arr_1**.5"
   ]
  },
  {
   "cell_type": "markdown",
   "metadata": {},
   "source": [
    "# Графики и matplotlib\n",
    "Как рисовать красивые картинки и издеваться над любителями MS Excel"
   ]
  },
  {
   "cell_type": "code",
   "execution_count": 4,
   "metadata": {
    "collapsed": false,
    "scrolled": true
   },
   "outputs": [
    {
     "data": {
      "text/plain": [
       "[<matplotlib.lines.Line2D at 0x7fa4bcd6e5d0>]"
      ]
     },
     "execution_count": 4,
     "metadata": {},
     "output_type": "execute_result"
    },
    {
     "data": {
      "image/png": "[encoded data removed]",
      "text/plain": [
       "<matplotlib.figure.Figure at 0x7fa4cc6a7f50>"
      ]
     },
     "metadata": {},
     "output_type": "display_data"
    }
   ],
   "source": [
    "#загрузим библиотеку\n",
    "import matplotlib.pyplot as plt #загрузить библиотеку matplotlib.pyplot под именем plt\n",
    "%matplotlib inline\n",
    "\n",
    "#линии\n",
    "plt.plot([0,1,2,3,4,5],[0,1,4,9,16,25])"
   ]
  },
  {
   "cell_type": "code",
   "execution_count": null,
   "metadata": {
    "collapsed": false
   },
   "outputs": [],
   "source": [
    "#точки\n",
    "plt.scatter([0,1,2,3,4,5],[0,1,4,9,16,25])\n",
    "\n",
    "plt.show()#после этой функции всё уже построенное отрисуется и начнётся новый график\n",
    "\n",
    "#если не писать plt.show() между графиками, они накладываются\n",
    "plt.scatter([1,1,2,3],[3,2,2,1],c = [\"red\",\"blue\",\"blue\",\"green\"],marker = \"x\")\n",
    "plt.scatter([0,1,2,3,4,5],[0,1,4,9,16,25],c = \"black\")\n",
    "plt.show()"
   ]
  },
  {
   "cell_type": "code",
   "execution_count": null,
   "metadata": {
    "collapsed": false
   },
   "outputs": [],
   "source": [
    "#гистограмма\n",
    "plt.hist([0,1,1,1,2,2,3,3,3,3,3,4,4,5,5,5,6,7,7,8,9,10])\n",
    "plt.show()\n",
    "\n",
    "\n",
    "plt.hist([0,1,1,1,2,2,3,3,3,3,3,4,4,5,5,5,6,7,7,8,9,10],bins = 5)\n",
    "plt.show()"
   ]
  },
  {
   "cell_type": "markdown",
   "metadata": {},
   "source": [
    "## Виды графиков\n",
    " - plot - линии\n",
    " - scatter - точки\n",
    " - hist - горизонтальные штуки (бины)"
   ]
  },
  {
   "cell_type": "code",
   "execution_count": null,
   "metadata": {
    "collapsed": false
   },
   "outputs": [],
   "source": [
    "#Построй гистограмму возрастов, гистограмму цен.\n",
    "\n",
    "#<ваш код>\n",
    "\n",
    "#Бонус - узнай, как строить 2D-гистограму возрастов И цен. "
   ]
  },
  {
   "cell_type": "code",
   "execution_count": null,
   "metadata": {
    "collapsed": false
   },
   "outputs": [],
   "source": [
    "#Постройте график из точек x=возраст, y=цена билета\n",
    "#цвет - пол\n",
    "\n",
    "#<ваш код>"
   ]
  },
  {
   "cell_type": "markdown",
   "metadata": {},
   "source": [
    "# Битва с финальным боссом\n",
    "\n",
    "При помощи интуиции, граффиков и вычислений попробуй выделить по признакам группу людей,\n",
    "в которой почти все выжили. \n",
    "\n",
    "Признаки - выражения вида:\n",
    "* [колонка] равно [значение] (пол = женский)\n",
    "* [математическое выражение] >, <, >= или <=  [значение]  (возраст старше 18 лет) (количество родственников минус родителей больше 1)\n",
    "* [колонка с именем] - [утверждение про имя]  (имя содержит \"Mr.\" и длинее 5 букв)\n",
    "\n",
    "Признаки могут использоваться через И и ИЛИ.\n",
    "\n",
    "(и только их. НЕ, импликация, XOR, эквивалентность, штрих Шифера и стрелка Пирса идут лесом)\n",
    "\n",
    "Например, все [старше 30 лет] И [из порта C] И ([родственников 0] ИЛИ [первый класс]) - это 4 признака\n",
    "\n",
    "При этом:\n",
    "* Чем больше выживших людей(количество, а не доля), тем лучше;\n",
    "* В группе обязательно должны выжить более 80% людей;\n",
    "* Желательно использовать не более 5 признаков;\n",
    " * Если нашёл более 1 такой группы - перечисли несколько;\n",
    "* Гипотеза должна подтверждаться запускабельным кодом, \n",
    " * который считает число людей и шанс выжить;\n",
    " * высший пилотаж - заправить это красивыми граффиками по теме;\n",
    "\n",
    "Напутствие - возможно, будет полезно сначала изучить данные, посмотреть на графики и обусдить идеи, а потом бросаться лихорадочно пробовать всё подряд."
   ]
  },
  {
   "cell_type": "code",
   "execution_count": null,
   "metadata": {
    "collapsed": false
   },
   "outputs": [],
   "source": [
    "#предварительные вычисления для графиков"
   ]
  },
  {
   "cell_type": "code",
   "execution_count": null,
   "metadata": {
    "collapsed": false
   },
   "outputs": [],
   "source": [
    "#пример для [старше 30 лет] И [из порта C] И ([родственников 0] ИЛИ [первый класс])\n",
    "\n",
    "data_with_age = data[~np.isnan(data.Age)]\n",
    "\n",
    "age_and_port = np.logical_and(data_with_age.Age > 30,data_with_age.Embarked == \"C\")\n",
    "\n",
    "#родственников на борту 0 или в первом классе\n",
    "sibsp_or_class = np.logical_or(data_with_age.SibSp ==0,data_with_age.Pclass ==1)\n",
    "\n",
    "#всё вместе\n",
    "group_indexer = np.logical_and(age_and_port,sibsp_or_class)\n",
    "\n",
    "#группа. Замените этот код на свою группу.\n",
    "group = data_with_age[group_indexer]\n"
   ]
  },
  {
   "cell_type": "code",
   "execution_count": null,
   "metadata": {
    "collapsed": false
   },
   "outputs": [],
   "source": [
    "print \"Количество человек:\",len(group)\n",
    "print \"Количество выживших:\", len(group[group.Survived == True])\n",
    "p_survived = np.average(group.Survived)\n",
    "print \"Вероятность выжить:\", p_survived\n",
    "print \"Достаточно выживших:\", p_survived > 0.8"
   ]
  },
  {
   "cell_type": "code",
   "execution_count": null,
   "metadata": {
    "collapsed": true
   },
   "outputs": [],
   "source": [
    "# Если ещё не устал - аналогично выдели группы людей, где все погибли"
   ]
  },
  {
   "cell_type": "markdown",
   "metadata": {},
   "source": [
    "[руководства по библиотекам]\n",
    "\n",
    "  * [NumPy](http://www.np.org/)\n",
    "    - [руководство для пользователей Matlab](http://wiki.scipy.org/NumPy_for_Matlab_Users)\n",
    "  * [Pandas](http://pandas.pydata.org/)\n",
    "    - [пример работы с данными при помощи pandas](http://nbviewer.ipython.org/github/agconti/kaggle-titanic/blob/master/Titanic.ipynb)\n",
    "  * [Matplotlib](http://matplotlib.org/index.html)\n",
    "    - [pyplot](http://matplotlib.org/api/pyplot_api.html) — эмуляция функционала графопостроений в Matlab\n",
    "    - [галерея примеров](http://matplotlib.org/gallery.html)\n",
    "  * [SciPy](http://scipy.org/)"
   ]
  }
 ],
 "metadata": {
  "kernelspec": {
   "display_name": "Python 2",
   "language": "python2",
   "name": "python2"
  },
  "language_info": {
   "codemirror_mode": {
    "name": "ipython",
    "version": 2
   },
   "file_extension": ".py",
   "mimetype": "text/x-python",
   "name": "python",
   "nbconvert_exporter": "python",
   "pygments_lexer": "ipython2",
   "version": "2.7.12"
  }
 },
 "nbformat": 4,
 "nbformat_minor": 0
}
